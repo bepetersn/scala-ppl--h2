{
 "cells": [
  {
   "cell_type": "code",
   "execution_count": 4,
   "metadata": {},
   "outputs": [
    {
     "name": "stdout",
     "output_type": "stream",
     "text": [
      "Compiling hw2stdlib_new.sc\n"
     ]
    },
    {
     "data": {
      "text/plain": [
       "\u001b[32mimport \u001b[39m\u001b[36m$file.$            \n",
       "\u001b[39m\n",
       "\u001b[32mimport \u001b[39m\u001b[36mhw2stdlib_new._\u001b[39m"
      ]
     },
     "execution_count": 4,
     "metadata": {},
     "output_type": "execute_result"
    }
   ],
   "source": [
    "import $file.hw2stdlib_new\n",
    "import hw2stdlib_new._"
   ]
  },
  {
   "cell_type": "markdown",
   "metadata": {},
   "source": [
    "# Homework 2\n",
    "\n",
    "Due 6/18 at 11:59pm\n",
    "\n",
    "## Submission Instructions\n",
    "Upload only this .ipynb file to Canvas. Do not add anything to hw2stdlib since you can't submit it.\n",
    "\n",
    "In this homework we will develop more useful functions for numbers as well as some of the functions on lists that we spoke about during lecture.\n",
    "\n",
    "## Arithmetic Functions\n",
    "\n",
    "### Problem 1 (5 Points)\n",
    "\n",
    "Write the minus function, which subtracts a natural number from another natural number. If the result would be less than zero then leave the answer as zero.\n",
    "\n"
   ]
  },
  {
   "cell_type": "code",
   "execution_count": 2,
   "metadata": {},
   "outputs": [
    {
     "data": {
      "text/plain": [
       "defined \u001b[32mfunction\u001b[39m \u001b[36mminus\u001b[39m"
      ]
     },
     "execution_count": 2,
     "metadata": {},
     "output_type": "execute_result"
    }
   ],
   "source": [
    "def minus(x : Nat, y : Nat) : Nat =\n",
    "    // YOUR CODE HERE\n",
    "    ???"
   ]
  },
  {
   "cell_type": "code",
   "execution_count": 3,
   "metadata": {},
   "outputs": [
    {
     "ename": "",
     "evalue": "",
     "output_type": "error",
     "traceback": [
      "\u001b[31mscala.NotImplementedError: an implementation is missing\u001b[39m",
      "  scala.Predef$.$qmark$qmark$qmark(\u001b[32mPredef.scala\u001b[39m:\u001b[32m230\u001b[39m)",
      "  $sess.cmd1Wrapper$Helper.minus(\u001b[32mcmd1.sc\u001b[39m:\u001b[32m3\u001b[39m)",
      "  $sess.cmd2Wrapper$Helper.<init>(\u001b[32mcmd2.sc\u001b[39m:\u001b[32m1\u001b[39m)",
      "  $sess.cmd2Wrapper.<init>(\u001b[32mcmd2.sc\u001b[39m:\u001b[32m146\u001b[39m)",
      "  $sess.cmd2$.<init>(\u001b[32mcmd2.sc\u001b[39m:\u001b[32m120\u001b[39m)",
      "  $sess.cmd2$.<clinit>(\u001b[32mcmd2.sc\u001b[39m:\u001b[32m-1\u001b[39m)"
     ]
    }
   ],
   "source": [
    "assert(minus(four, two) == two, 1)\n",
    "assert(minus(four, Zero) == four, 2)\n",
    "assert(minus(Zero, four) == Zero, 3)"
   ]
  },
  {
   "cell_type": "markdown",
   "metadata": {},
   "source": [
    "### Problem 2 (5 points)\n",
    "\n",
    "Define the $\\texttt{pow}$ function, which raises a natural number to some power. Notationally: \n",
    "\n",
    "$$\n",
    "f\\ x\\ y = x^y\n",
    "$$\n",
    "\n",
    "Hint: Use the mult function from the stdlib for help"
   ]
  },
  {
   "cell_type": "code",
   "execution_count": null,
   "metadata": {},
   "outputs": [],
   "source": [
    "// YOUR CODE HERE\n",
    "???"
   ]
  },
  {
   "cell_type": "code",
   "execution_count": null,
   "metadata": {},
   "outputs": [],
   "source": [
    "assert(pow(three, two) == nine, 1)\n",
    "assert(pow(four, Zero) == one, 2)\n",
    "assert(pow(two, two) == four, 3)"
   ]
  },
  {
   "cell_type": "markdown",
   "metadata": {},
   "source": [
    "### Problem 3 (5 points)\n",
    "\n",
    "Write the \"equals to\" function for numbers. This function should return $True$ if $x == y$ and $False$ otherwise."
   ]
  },
  {
   "cell_type": "code",
   "execution_count": null,
   "metadata": {},
   "outputs": [],
   "source": [
    "def eq_nat(x : Nat, y : Nat) : Bool =\n",
    "    // YOUR CODE HERE\n",
    "    ???"
   ]
  },
  {
   "cell_type": "code",
   "execution_count": null,
   "metadata": {},
   "outputs": [],
   "source": [
    "assert(eq_nat(four, four) == True, 1)\n",
    "assert(eq_nat(four, Zero) == False, 2)\n",
    "assert(eq_nat(eight, nine) == False, 3)\n",
    "assert(eq_nat(nine, nine) == True, 4)"
   ]
  },
  {
   "cell_type": "markdown",
   "metadata": {},
   "source": [
    "## Functions on Lists of Numbers\n",
    "\n",
    "### Problem 4 (5 pts)\n",
    "\n",
    "Write the sum function. This function should take a list of natural numbers and return their sum. Here is the type:\n",
    "\n",
    "$$\n",
    "sum : \\text{List}\\ \\mathbb{N} \\rightarrow \\mathbb{N}\n",
    "$$\n",
    "\n",
    "Hint: An empty list should have sum 0."
   ]
  },
  {
   "cell_type": "code",
   "execution_count": null,
   "metadata": {},
   "outputs": [],
   "source": [
    "// YOUR CODE HERE\n",
    "???"
   ]
  },
  {
   "cell_type": "code",
   "execution_count": null,
   "metadata": {},
   "outputs": [],
   "source": [
    "assert(sum(Cons(one, Empty)) == one, 1)\n",
    "assert(sum(Cons(one, Cons(seven, Cons(two, Empty)))) == ten, 2)"
   ]
  },
  {
   "cell_type": "markdown",
   "metadata": {},
   "source": [
    "### Problem 5 (5 pts)\n",
    "\n",
    "Write the product function. This function should take alist of natural numbers and return their product. Here is the type:\n",
    "\n",
    "$$\n",
    "prod : \\text{List}\\ \\mathbb{N} \\rightarrow \\mathbb{N}\n",
    "$$\n",
    "\n",
    "Hint: An empty list should have product 1."
   ]
  },
  {
   "cell_type": "code",
   "execution_count": null,
   "metadata": {},
   "outputs": [],
   "source": [
    "// YOUR CODE HERE\n",
    "???"
   ]
  },
  {
   "cell_type": "code",
   "execution_count": null,
   "metadata": {},
   "outputs": [],
   "source": [
    "assert(prod(Cons(one, Empty)) == one, 1)\n",
    "val fourteen = Succ(Succ(Succ(Succ(ten))))\n",
    "assert(prod(Cons(one, Cons(seven, Cons(two, Empty)))) == fourteen, 2)"
   ]
  },
  {
   "cell_type": "markdown",
   "metadata": {},
   "source": [
    "### Problem 6 (6 pts)\n",
    "\n",
    "Write the function that tells us if a given natural number is in a list of natural numbers. (you will need to use the equals function defined in problem 3)\n",
    "\n",
    "$$\n",
    "in : \\mathbb{N} \\rightarrow \\text{List}\\ \\mathbb{N} \\rightarrow \\mathbb{B}\n",
    "$$"
   ]
  },
  {
   "cell_type": "code",
   "execution_count": null,
   "metadata": {},
   "outputs": [],
   "source": [
    "// YOUR CODE HERE\n",
    "???"
   ]
  },
  {
   "cell_type": "code",
   "execution_count": null,
   "metadata": {},
   "outputs": [],
   "source": [
    "assert(in(one, Cons(one, Empty)) == True, 1)\n",
    "assert(in(seven, Cons(one, Cons(seven, Cons(two, Empty)))) == True, 2)\n",
    "assert(in(eight, Cons(one, Cons(seven, Cons(two, Empty)))) == False, 3)\n",
    "assert(in(seven, Empty) == False, 4)"
   ]
  },
  {
   "cell_type": "markdown",
   "metadata": {},
   "source": [
    "## Miscellaneous Useful Function"
   ]
  },
  {
   "cell_type": "markdown",
   "metadata": {},
   "source": [
    "### Problem 7 (5 points)\n",
    "Implement a function $$ifThenElse: \\mathbb{B} \\rightarrow a \\rightarrow a \\rightarrow a$$ which chooses either the first $A$ given if the bool is true or the second if it's false."
   ]
  },
  {
   "cell_type": "code",
   "execution_count": null,
   "metadata": {},
   "outputs": [],
   "source": [
    "// YOUR CODE HERE\n",
    "???"
   ]
  },
  {
   "cell_type": "code",
   "execution_count": null,
   "metadata": {},
   "outputs": [],
   "source": [
    "assert(ifThenElse(True)(one)(two) == one)\n",
    "assert(ifThenElse(False)(one)(two) == two)"
   ]
  },
  {
   "cell_type": "markdown",
   "metadata": {},
   "source": [
    "## Higher-Order Functions"
   ]
  },
  {
   "cell_type": "markdown",
   "metadata": {},
   "source": [
    "### Problem 8 (5 Points)\n",
    "\n",
    "Write the filter function. Remember that this should be polymorphic. So:\n",
    "\n",
    "$$\n",
    "filter : (a \\rightarrow \\mathbb{B}) \\rightarrow List\\ a \\rightarrow List\\ a\n",
    "$$\n",
    "\n",
    "Do not curry the parameters in the Scala version. If the predicate (The function we give it) is true for an element, then that element will be in the output list. If it's false leave it out."
   ]
  },
  {
   "cell_type": "code",
   "execution_count": null,
   "metadata": {},
   "outputs": [],
   "source": [
    "// YOUR CODE HERE\n",
    "???"
   ]
  },
  {
   "cell_type": "code",
   "execution_count": 3,
   "metadata": {},
   "outputs": [
    {
     "name": "stderr",
     "output_type": "stream",
     "text": [
      "cmd3.sc:1: not found: value filter\n",
      "val res3_0 = assert(filter((n: Nat) => lte(n, two), Cons(three, Cons(two, Empty))) == Cons(two, Empty), 1)\n",
      "                    ^cmd3.sc:2: not found: value filter\n",
      "val res3_1 = assert(filter((n: Nat) => lte(n, two), Empty) == Empty, 2)\n",
      "                    ^cmd3.sc:3: not found: value filter\n",
      "val res3_2 = assert(filter((n: Nat) => lte(n, four), Cons(three, Cons(two, Empty))) == Cons(three, Cons(two, Empty)), 3)\n",
      "                    ^"
     ]
    },
    {
     "ename": "",
     "evalue": "",
     "output_type": "error",
     "traceback": [
      "Compilation Failed"
     ]
    }
   ],
   "source": [
    "assert(filter((n: Nat) => lte(n, two), Cons(three, Cons(two, Empty))) == Cons(two, Empty), 1)\n",
    "assert(filter((n: Nat) => lte(n, two), Empty) == Empty, 2)\n",
    "assert(filter((n: Nat) => lte(n, four), Cons(three, Cons(two, Empty))) == Cons(three, Cons(two, Empty)), 3)"
   ]
  },
  {
   "cell_type": "markdown",
   "metadata": {},
   "source": [
    "### Problem 9 (5 Points)\n",
    "\n",
    "Implement the same filter function using a `fold`. Name it `filterWithFold`. (Hint, take a look at the `append` and / or `reverse` functions in the standard library)."
   ]
  },
  {
   "cell_type": "code",
   "execution_count": null,
   "metadata": {},
   "outputs": [],
   "source": [
    "// YOUR CODE HERE\n",
    "???"
   ]
  },
  {
   "cell_type": "code",
   "execution_count": null,
   "metadata": {},
   "outputs": [],
   "source": [
    "assert(filterWithFold((n: Nat) => lte(n, two), Cons(three, Cons(two, Empty))) == Cons(two, Empty), 1)\n",
    "assert(filterWithFold((n: Nat) => lte(n, two), Empty) == Empty, 2)\n",
    "assert(filterWithFold((n: Nat) => lte(n, four), Cons(three, Cons(two, Empty))) == Cons(three, Cons(two, Empty)), 3)"
   ]
  },
  {
   "cell_type": "markdown",
   "metadata": {},
   "source": [
    "## Implementing the ```Maybe``` Type"
   ]
  },
  {
   "cell_type": "markdown",
   "metadata": {},
   "source": [
    "### Problem 10 (5 points)\n",
    "Implement the `Maybe` type:\n",
    "$$\n",
    "\\begin{align}\n",
    "Maybe\\ a\\ :=\\ \\text{None}\\ \\mid\\ \\text{Just}\\ a\\\n",
    "\\end{align}\n",
    "$$\n",
    "Take a look at the definition of `List` in the stdlib as a starting point"
   ]
  },
  {
   "cell_type": "code",
   "execution_count": null,
   "metadata": {},
   "outputs": [],
   "source": [
    "// YOUR CODE HERE\n",
    "???"
   ]
  },
  {
   "cell_type": "code",
   "execution_count": null,
   "metadata": {},
   "outputs": [],
   "source": [
    "val mx: Maybe[Nat] = None\n",
    "val my = Just(three)\n",
    "(None: Maybe[Nat]) match {\n",
    "    case None => two\n",
    "    case Just(n) => three\n",
    "}"
   ]
  },
  {
   "cell_type": "markdown",
   "metadata": {},
   "source": [
    "### Problem 11 (5 points)\n",
    "Implement\n",
    "\n",
    "$$\n",
    "map: (a \\rightarrow b) \\rightarrow Maybe\\ a \\rightarrow Maybe\\ b\n",
    "$$\n",
    "\n",
    "Don't curry the function in the Scala implementation. Similarly to lists, it should return `None` if given `None` and should return `Just(f(value))` if it contains a value."
   ]
  },
  {
   "cell_type": "code",
   "execution_count": null,
   "metadata": {},
   "outputs": [],
   "source": [
    "// YOUR CODE HERE\n",
    "???"
   ]
  },
  {
   "cell_type": "code",
   "execution_count": null,
   "metadata": {},
   "outputs": [],
   "source": [
    "assert(map(plus(_: Nat, four), None) == None)\n",
    "assert(map(plus(_: Nat, four), Just(one)) == Just(five))"
   ]
  }
 ],
 "metadata": {
  "kernelspec": {
   "display_name": "Scala",
   "language": "scala",
   "name": "scala"
  },
  "language_info": {
   "codemirror_mode": "text/x-scala",
   "file_extension": ".scala",
   "mimetype": "text/x-scala",
   "name": "scala211",
   "nbconvert_exporter": "script",
   "pygments_lexer": "scala",
   "version": "2.11.11"
  }
 },
 "nbformat": 4,
 "nbformat_minor": 2
}
